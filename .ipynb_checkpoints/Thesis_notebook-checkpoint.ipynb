{
 "cells": [
  {
   "cell_type": "markdown",
   "id": "db8927d0",
   "metadata": {},
   "source": [
    "<div>\n",
    "    <font face=\"Times New Roman\" style=\"text-align: center;\">\n",
    "        <h1>Beyond Reviews:</h1>\n",
    "        <h4>Validating online consumer reviews using unsupervised machine learning methods.</h4>\n",
    "        <p><strong>Date:</strong> June 15, 2024</p>\n",
    "        <p><strong>Author:</strong> Maurits Christiaan Graaf (660509)</p>\n",
    "        <p><strong>Coach:</strong> Dr. David Kusterer</p>\n",
    "        <p><strong>Co-reader:</strong> Dr. Maciej Szymanowski</p>\n",
    "        <p><strong>University:</strong> Rotterdam School of Management</p>\n",
    "    </font>\n",
    "</div>"
   ]
  },
  {
   "cell_type": "markdown",
   "id": "7c309da7",
   "metadata": {},
   "source": [
    "# Importing packages"
   ]
  },
  {
   "cell_type": "code",
   "execution_count": 3,
   "id": "6e929b73",
   "metadata": {},
   "outputs": [],
   "source": [
    "import pandas as pd\n",
    "import json\n",
    "import os"
   ]
  },
  {
   "cell_type": "markdown",
   "id": "857a5f35",
   "metadata": {},
   "source": [
    "# Loading the data\n",
    "The data comes from: https://nijianmo.github.io/amazon/index.html\n",
    "The following k-cores have been downloaded (not review only):\n",
    "1) Amazon Fashion\n",
    "2) All Beauty\n",
    "3) Appliances\n",
    "4) Luxury Beauty\n",
    "5) Prime Pantry\n",
    "6) Software\n",
    "\n",
    "These were randomly selected and contain (3,176; 5,269; 2,277; 34,278; 137,788; 12,805) reviews respectively, in total summing up to 195,593 reviews.\n",
    "\n",
    "When downloading the files they are zipped, after unzipping they are in Json format. Every dataset needs to be extracted seperately and will be made into a pandas data frame."
   ]
  },
  {
   "cell_type": "code",
   "execution_count": 4,
   "id": "0533793d",
   "metadata": {},
   "outputs": [],
   "source": [
    "#Define directory\n",
    "data_directory = '/Data'"
   ]
  },
  {
   "cell_type": "code",
   "execution_count": 5,
   "id": "aa51e663",
   "metadata": {},
   "outputs": [
    {
     "ename": "FileNotFoundError",
     "evalue": "[WinError 3] Het systeem kan het opgegeven pad niet vinden: '/Data'",
     "output_type": "error",
     "traceback": [
      "\u001b[1;31m---------------------------------------------------------------------------\u001b[0m",
      "\u001b[1;31mFileNotFoundError\u001b[0m                         Traceback (most recent call last)",
      "Cell \u001b[1;32mIn[5], line 5\u001b[0m\n\u001b[0;32m      2\u001b[0m datasets \u001b[38;5;241m=\u001b[39m []\n\u001b[0;32m      4\u001b[0m \u001b[38;5;66;03m#For loop to read all Json files in /Data\u001b[39;00m\n\u001b[1;32m----> 5\u001b[0m \u001b[38;5;28;01mfor\u001b[39;00m filename \u001b[38;5;129;01min\u001b[39;00m os\u001b[38;5;241m.\u001b[39mlistdir(data_directory):\n\u001b[0;32m      6\u001b[0m     \u001b[38;5;28;01mif\u001b[39;00m filename\u001b[38;5;241m.\u001b[39mendswith(\u001b[38;5;124m'\u001b[39m\u001b[38;5;124m.json\u001b[39m\u001b[38;5;124m'\u001b[39m):\n\u001b[0;32m      7\u001b[0m         \u001b[38;5;28;01mwith\u001b[39;00m \u001b[38;5;28mopen\u001b[39m(os\u001b[38;5;241m.\u001b[39mpath\u001b[38;5;241m.\u001b[39mjoin(data_directory, filename)) \u001b[38;5;28;01mas\u001b[39;00m json_file:\n",
      "\u001b[1;31mFileNotFoundError\u001b[0m: [WinError 3] Het systeem kan het opgegeven pad niet vinden: '/Data'"
     ]
    }
   ],
   "source": [
    "#Set up a dictionary\n",
    "datasets = []\n",
    "\n",
    "#For loop to read all Json files in /Data\n",
    "for filename in os.listdir(data_directory):\n",
    "    if filename.endswith('.json'):\n",
    "        with open(os.path.join(data_directory, filename)) as json_file:\n",
    "            datasets.append(json.load(json_file))\n",
    "\n",
    "#Create a data frame for every dataset in the /Data folder\n",
    "dataframes = [pd.DataFrame(dataset) for dataset in datasets]\n"
   ]
  },
  {
   "cell_type": "code",
   "execution_count": null,
   "id": "44ba1741",
   "metadata": {},
   "outputs": [],
   "source": []
  }
 ],
 "metadata": {
  "kernelspec": {
   "display_name": "Python 3 (ipykernel)",
   "language": "python",
   "name": "python3"
  },
  "language_info": {
   "codemirror_mode": {
    "name": "ipython",
    "version": 3
   },
   "file_extension": ".py",
   "mimetype": "text/x-python",
   "name": "python",
   "nbconvert_exporter": "python",
   "pygments_lexer": "ipython3",
   "version": "3.11.5"
  }
 },
 "nbformat": 4,
 "nbformat_minor": 5
}
