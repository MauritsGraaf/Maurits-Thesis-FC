{
 "cells": [
  {
   "cell_type": "markdown",
   "id": "41d00441",
   "metadata": {},
   "source": [
    "<div>\n",
    "    <font face=\"Times New Roman\" style=\"text-align: center;\">\n",
    "        <h1>Beyond Reviews</h1>\n",
    "        <h2>Validating online consumer reviews using unsupervised machine learning methods.</h2>\n",
    "        <p><strong>Date:</strong> June 15, 2024</p>\n",
    "        <p><strong>Student:</strong> Maurits Christiaan Graaf</p>\n",
    "        <p><strong>Studentnumber:</strong> 660509</p>\n",
    "        <p><strong>Supervisor:</strong> Dr. D.J. (David) Kusterer</p>\n",
    "        <p><strong>Second Reader:</strong> Dr. M. (Maciej) Szymanowski</p>\n",
    "        <p><strong>Department:</strong> Marketing</p>\n",
    "        <p><strong>University:</strong> Rotterdam School of Management</p>\n",
    "    </font>\n",
    "</div>"
   ]
  },
  {
   "cell_type": "markdown",
   "id": "bd5a5e28",
   "metadata": {},
   "source": [
    "### Importing Packages\n",
    "This codeblock imports the necessary packages."
   ]
  },
  {
   "cell_type": "code",
   "execution_count": 1,
   "id": "495f959f",
   "metadata": {},
   "outputs": [],
   "source": [
    "##### ------ Importing Packages ------ #####\n",
    "#General packages\n",
    "import pandas as pd\n",
    "import matplotlib.pyplot as plt\n",
    "import numpy as np"
   ]
  },
  {
   "cell_type": "markdown",
   "id": "645df160",
   "metadata": {},
   "source": [
    "### Dataset\n",
    "\n",
    "Import the dataset created and prepared in 'Fake reviews notebook ~ data preparation'"
   ]
  },
  {
   "cell_type": "code",
   "execution_count": 2,
   "id": "2976fce7",
   "metadata": {},
   "outputs": [],
   "source": [
    "# Read from pickle (pkl)\n",
    "concatenated_df = pd.read_pickle('concatenated_df.pkl')"
   ]
  },
  {
   "cell_type": "code",
   "execution_count": 7,
   "id": "e30c5a1c",
   "metadata": {},
   "outputs": [
    {
     "name": "stdout",
     "output_type": "stream",
     "text": [
      "(149880, 47)\n",
      "Index(['Review_Rating', 'Review_Title', 'Review_Text', 'Review_Images',\n",
      "       'Product_ASIN', 'Parent_Product_ASIN', 'User_ID', 'Review_Timestamp',\n",
      "       'Helpful_Votes', 'Verified_Purchase', 'Main_Category', 'Product_Title',\n",
      "       'Product_Average_Rating', 'Count_product_ratings', 'Product_Features',\n",
      "       'Product_Description', 'Product_Price', 'Product_Images',\n",
      "       'Product_Videos', 'Product_Store', 'Product_Categories',\n",
      "       'Product_Details', 'Products_Bought_Together', 'Product_Subtitle',\n",
      "       'Product_Author', 'overall_category', 'Review_Title_Length',\n",
      "       'Review_Text_Length', 'Rating_Difference', 'Review_Rank',\n",
      "       'Extreme_Rating', 'Average_Text_Length', 'Text_Length_Difference',\n",
      "       'Review_Count', 'Singular_Review', 'Review_Words', 'Review_Word_Count',\n",
      "       'Fully_Capitalized_Words_Count', 'Fully_Capitalized_Words_Proportion',\n",
      "       'Capital_Letters_Excluding_Start_Count',\n",
      "       'Capital_Letters_Excluding_Start_Percentage',\n",
      "       'First_Person_Pronouns_Count', 'First_Person_Pronouns_Ratio',\n",
      "       'Exclamation_Sentence_Ratio', 'Sentiment_Scores', 'Cosine_Similarity',\n",
      "       'Review_Month'],\n",
      "      dtype='object')\n"
     ]
    }
   ],
   "source": [
    "#Check whether import functioned correctly\n",
    "print(concatenated_df.shape)\n",
    "\n",
    "print(concatenated_df.columns)"
   ]
  },
  {
   "cell_type": "markdown",
   "id": "03be35c2",
   "metadata": {},
   "source": [
    "### Fitting the models"
   ]
  },
  {
   "cell_type": "code",
   "execution_count": null,
   "id": "09379d4b",
   "metadata": {},
   "outputs": [],
   "source": []
  }
 ],
 "metadata": {
  "kernelspec": {
   "display_name": "Python 3 (ipykernel)",
   "language": "python",
   "name": "python3"
  },
  "language_info": {
   "codemirror_mode": {
    "name": "ipython",
    "version": 3
   },
   "file_extension": ".py",
   "mimetype": "text/x-python",
   "name": "python",
   "nbconvert_exporter": "python",
   "pygments_lexer": "ipython3",
   "version": "3.11.5"
  }
 },
 "nbformat": 4,
 "nbformat_minor": 5
}
